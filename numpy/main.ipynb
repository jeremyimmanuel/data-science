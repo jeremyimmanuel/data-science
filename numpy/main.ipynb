{
 "metadata": {
  "language_info": {
   "codemirror_mode": {
    "name": "ipython",
    "version": 3
   },
   "file_extension": ".py",
   "mimetype": "text/x-python",
   "name": "python",
   "nbconvert_exporter": "python",
   "pygments_lexer": "ipython3",
   "version": "3.9.2-final"
  },
  "orig_nbformat": 2,
  "kernelspec": {
   "name": "python392jvsc74a57bd06577d0484e7a124f236a2da9a7b855d6680c3cc752d289b1d31c0fd79d60d06e",
   "display_name": "Python 3.9.2 64-bit ('ml': conda)"
  }
 },
 "nbformat": 4,
 "nbformat_minor": 2,
 "cells": [
  {
   "source": [
    "# Numpy\n",
    "\n",
    "Playing around with Numpy"
   ],
   "cell_type": "markdown",
   "metadata": {}
  },
  {
   "cell_type": "code",
   "execution_count": 17,
   "metadata": {},
   "outputs": [],
   "source": [
    "import numpy as np"
   ]
  },
  {
   "source": [
    "## Numpy Arrays"
   ],
   "cell_type": "markdown",
   "metadata": {}
  },
  {
   "cell_type": "code",
   "execution_count": 8,
   "metadata": {},
   "outputs": [
    {
     "output_type": "execute_result",
     "data": {
      "text/plain": [
       "array([1, 2, 3])"
      ]
     },
     "metadata": {},
     "execution_count": 8
    }
   ],
   "source": [
    "# Making an array\n",
    "\n",
    "arr: np.ndarray = np.array([1, 2, 3])\n",
    "arr"
   ]
  },
  {
   "cell_type": "code",
   "execution_count": 9,
   "metadata": {},
   "outputs": [
    {
     "output_type": "execute_result",
     "data": {
      "text/plain": [
       "numpy.ndarray"
      ]
     },
     "metadata": {},
     "execution_count": 9
    }
   ],
   "source": [
    "# The datatype for the numpy array is numpy's own ndarray\n",
    "\n",
    "type(arr)"
   ]
  },
  {
   "cell_type": "code",
   "execution_count": 44,
   "metadata": {},
   "outputs": [
    {
     "output_type": "execute_result",
     "data": {
      "text/plain": [
       "dtype('int64')"
      ]
     },
     "metadata": {},
     "execution_count": 44
    }
   ],
   "source": [
    "# For the datatype of the elements of the array, we can do this\n",
    "\n",
    "arr.dtype"
   ]
  },
  {
   "cell_type": "code",
   "execution_count": 10,
   "metadata": {},
   "outputs": [
    {
     "output_type": "execute_result",
     "data": {
      "text/plain": [
       "array([ 0,  2,  4,  6,  8, 10])"
      ]
     },
     "metadata": {},
     "execution_count": 10
    }
   ],
   "source": [
    "# A quick way to make a numpy array based off a range\n",
    "\n",
    "np.arange(0, 11, 2)"
   ]
  },
  {
   "cell_type": "code",
   "execution_count": 13,
   "metadata": {},
   "outputs": [
    {
     "output_type": "stream",
     "name": "stdout",
     "text": [
      "[0. 0. 0. 0. 0.] [1. 1. 1. 1. 1.]\n"
     ]
    }
   ],
   "source": [
    "# Numpy array of zeros and ones\n",
    "\n",
    "zeros: np.ndarray = np.zeros(5)\n",
    "ones: np.ndarray = np.ones(5)\n",
    "\n",
    "print(zeros, ones)"
   ]
  },
  {
   "cell_type": "code",
   "execution_count": 17,
   "metadata": {},
   "outputs": [
    {
     "output_type": "execute_result",
     "data": {
      "text/plain": [
       "array([0., 1., 2., 3., 4., 5., 6., 7., 8., 9.])"
      ]
     },
     "metadata": {},
     "execution_count": 17
    }
   ],
   "source": [
    "# The linspace function return evenly spaced numbers over a specified interval.\n",
    "# In this case it return the numbers from 0 to 9 with 10 evenly spaced intervals.\n",
    "\n",
    "np.linspace(0, 9, 10)"
   ]
  },
  {
   "cell_type": "code",
   "execution_count": 6,
   "metadata": {},
   "outputs": [
    {
     "output_type": "execute_result",
     "data": {
      "text/plain": [
       "array([[1., 0., 0., 0.],\n",
       "       [0., 1., 0., 0.],\n",
       "       [0., 0., 1., 0.],\n",
       "       [0., 0., 0., 1.]])"
      ]
     },
     "metadata": {},
     "execution_count": 6
    }
   ],
   "source": [
    "# Identity Matrix\n",
    "\n",
    "np.eye(4)"
   ]
  },
  {
   "source": [
    "## Numpy Random"
   ],
   "cell_type": "markdown",
   "metadata": {}
  },
  {
   "cell_type": "code",
   "execution_count": 6,
   "metadata": {},
   "outputs": [
    {
     "output_type": "execute_result",
     "data": {
      "text/plain": [
       "array([[0.15623977, 0.58041577],\n",
       "       [0.74522447, 0.855533  ]])"
      ]
     },
     "metadata": {},
     "execution_count": 6
    }
   ],
   "source": [
    "# A regular random array with a uniform distribution\n",
    "\n",
    "np.random.rand(5)\n",
    "np.random.rand(2, 2)"
   ]
  },
  {
   "cell_type": "code",
   "execution_count": 9,
   "metadata": {},
   "outputs": [
    {
     "output_type": "execute_result",
     "data": {
      "text/plain": [
       "array([ 0.71976975,  0.47104807,  0.59792207, -1.33284353,  0.45667921])"
      ]
     },
     "metadata": {},
     "execution_count": 9
    }
   ],
   "source": [
    "# Normal Distribution center around 0\n",
    "\n",
    "np.random.randn(5)"
   ]
  },
  {
   "cell_type": "code",
   "execution_count": 16,
   "metadata": {},
   "outputs": [
    {
     "output_type": "execute_result",
     "data": {
      "text/plain": [
       "array([95,  8, 91, 48, 81, 99, 40,  3, 47, 43, 37, 82,  5, 29, 68, 89, 18,\n",
       "       13,  7, 85, 16, 84, 97, 11, 78,  4,  8, 95, 80, 90, 13, 42, 26, 37,\n",
       "       60, 94, 17, 65, 12, 70, 45, 64, 79, 56, 11, 56, 78, 23,  8, 99, 83,\n",
       "       52, 55, 84, 52, 34, 60, 51, 18, 31,  2, 92,  6,  3,  9, 48, 33, 55,\n",
       "       50, 22, 49, 58, 36, 48, 72, 22,  4, 22, 74, 62,  0, 57, 84, 67, 82,\n",
       "       56, 93, 32, 60, 86, 17, 88, 80, 22,  3, 96, 35, 96, 14, 38])"
      ]
     },
     "metadata": {},
     "execution_count": 16
    }
   ],
   "source": [
    "# Returns random integer(s)\n",
    "\n",
    "np.random.randint(0, 100, 100)"
   ]
  },
  {
   "source": [
    "## Numpy Array Manipulation"
   ],
   "cell_type": "markdown",
   "metadata": {}
  },
  {
   "cell_type": "code",
   "execution_count": 19,
   "metadata": {},
   "outputs": [],
   "source": [
    "arr = np.random.randint(0, 100, 10)"
   ]
  },
  {
   "cell_type": "code",
   "execution_count": 20,
   "metadata": {},
   "outputs": [
    {
     "output_type": "execute_result",
     "data": {
      "text/plain": [
       "array([37,  8,  5, 82, 87,  7, 93, 66, 78, 53])"
      ]
     },
     "metadata": {},
     "execution_count": 20
    }
   ],
   "source": [
    "arr"
   ]
  },
  {
   "source": [
    "### Shape of array\n",
    "\n",
    "Numpy can also handle multi dimensional array. We can get the shape\n",
    "via `.shape` and change it shape via `.reshape(m, n, ...)`"
   ],
   "cell_type": "markdown",
   "metadata": {}
  },
  {
   "cell_type": "code",
   "execution_count": 52,
   "metadata": {},
   "outputs": [
    {
     "output_type": "stream",
     "name": "stdout",
     "text": [
      "(10,)\n(2, 5)\n"
     ]
    },
    {
     "output_type": "execute_result",
     "data": {
      "text/plain": [
       "array([37,  8,  5, 82, 87,  7, 93, 66, 78, 53])"
      ]
     },
     "metadata": {},
     "execution_count": 52
    }
   ],
   "source": [
    "# Reshaping array, note that the product of the shape must match\n",
    "# the number of elements\n",
    "\n",
    "# Notice that arr didn't get modified inplace\n",
    "\n",
    "print(arr.shape)\n",
    "\n",
    "arr2d = arr.reshape(2, 5)\n",
    "\n",
    "print(arr2d.shape)\n",
    "arr"
   ]
  },
  {
   "source": [
    "### Getting  max and min values from array\n",
    "\n",
    "Numpy has `.max()` and `.min()` functions. It's self explanatory.\n",
    "`.argmax()` and `.argmin()` will return the index of said max and min value.\n",
    "\n",
    "When given to a multi dimentional array, it'll return the answer as if it's a one-d array."
   ],
   "cell_type": "markdown",
   "metadata": {}
  },
  {
   "cell_type": "code",
   "execution_count": 27,
   "metadata": {},
   "outputs": [
    {
     "output_type": "execute_result",
     "data": {
      "text/plain": [
       "93"
      ]
     },
     "metadata": {},
     "execution_count": 27
    }
   ],
   "source": [
    "# Getting max value\n",
    "\n",
    "arr.max()"
   ]
  },
  {
   "cell_type": "code",
   "execution_count": 28,
   "metadata": {},
   "outputs": [
    {
     "output_type": "execute_result",
     "data": {
      "text/plain": [
       "5"
      ]
     },
     "metadata": {},
     "execution_count": 28
    }
   ],
   "source": [
    "# Getting min value\n",
    "\n",
    "arr.min()"
   ]
  },
  {
   "cell_type": "code",
   "execution_count": 29,
   "metadata": {},
   "outputs": [
    {
     "output_type": "execute_result",
     "data": {
      "text/plain": [
       "6"
      ]
     },
     "metadata": {},
     "execution_count": 29
    }
   ],
   "source": [
    "arr.argmax()"
   ]
  },
  {
   "cell_type": "code",
   "execution_count": 30,
   "metadata": {},
   "outputs": [
    {
     "output_type": "execute_result",
     "data": {
      "text/plain": [
       "2"
      ]
     },
     "metadata": {},
     "execution_count": 30
    }
   ],
   "source": [
    "arr.argmin()"
   ]
  },
  {
   "cell_type": "code",
   "execution_count": 35,
   "metadata": {},
   "outputs": [
    {
     "output_type": "execute_result",
     "data": {
      "text/plain": [
       "array([[37,  8,  5, 82, 87],\n",
       "       [ 7, 93, 66, 78, 53]])"
      ]
     },
     "metadata": {},
     "execution_count": 35
    }
   ],
   "source": [
    "arr2d.argmax()\n",
    "arr2d"
   ]
  },
  {
   "cell_type": "code",
   "execution_count": 36,
   "metadata": {},
   "outputs": [
    {
     "output_type": "execute_result",
     "data": {
      "text/plain": [
       "2"
      ]
     },
     "metadata": {},
     "execution_count": 36
    }
   ],
   "source": [
    "arr2d.argmin()"
   ]
  },
  {
   "source": [
    "## Numpy Array Indexing\n",
    "\n",
    "Just like regular python arrays, we can index numpy arrays.\n",
    "The syntax is similar to python array indexing with the square bracket notation."
   ],
   "cell_type": "markdown",
   "metadata": {}
  },
  {
   "cell_type": "code",
   "execution_count": 55,
   "metadata": {},
   "outputs": [
    {
     "output_type": "execute_result",
     "data": {
      "text/plain": [
       "array([ 0,  1,  2,  3,  4,  5,  6,  7,  8,  9, 10])"
      ]
     },
     "metadata": {},
     "execution_count": 55
    }
   ],
   "source": [
    "arr: np.ndarray = np.arange(0, 11)\n",
    "arr"
   ]
  },
  {
   "cell_type": "code",
   "execution_count": 57,
   "metadata": {},
   "outputs": [
    {
     "output_type": "execute_result",
     "data": {
      "text/plain": [
       "5"
      ]
     },
     "metadata": {},
     "execution_count": 57
    }
   ],
   "source": [
    "arr[5]"
   ]
  },
  {
   "cell_type": "code",
   "execution_count": 56,
   "metadata": {},
   "outputs": [
    {
     "output_type": "execute_result",
     "data": {
      "text/plain": [
       "array([ 5,  6,  7,  8,  9, 10])"
      ]
     },
     "metadata": {},
     "execution_count": 56
    }
   ],
   "source": [
    "arr[5:]"
   ]
  },
  {
   "cell_type": "code",
   "execution_count": 58,
   "metadata": {},
   "outputs": [
    {
     "output_type": "execute_result",
     "data": {
      "text/plain": [
       "array([5, 6, 7])"
      ]
     },
     "metadata": {},
     "execution_count": 58
    }
   ],
   "source": [
    "arr[5:8]"
   ]
  },
  {
   "source": [
    "## Manipulating slices\n",
    "\n",
    "Slicing an array returns a reference to the sliced array."
   ],
   "cell_type": "markdown",
   "metadata": {}
  },
  {
   "cell_type": "code",
   "execution_count": 74,
   "metadata": {},
   "outputs": [
    {
     "output_type": "execute_result",
     "data": {
      "text/plain": [
       "array([ 0,  1,  2,  3,  4,  5,  6,  7,  8,  9, 10])"
      ]
     },
     "metadata": {},
     "execution_count": 74
    }
   ],
   "source": [
    "arr = np.arange(0, 11)\n",
    "arr"
   ]
  },
  {
   "cell_type": "code",
   "execution_count": 63,
   "metadata": {},
   "outputs": [
    {
     "output_type": "execute_result",
     "data": {
      "text/plain": [
       "array([0, 1, 2, 3, 4, 5])"
      ]
     },
     "metadata": {},
     "execution_count": 63
    }
   ],
   "source": [
    "# Here, I'm getting a sliced of the array\n",
    "\n",
    "sliced_of_arr = arr[:6]\n",
    "sliced_of_arr"
   ]
  },
  {
   "cell_type": "code",
   "execution_count": 65,
   "metadata": {},
   "outputs": [
    {
     "output_type": "execute_result",
     "data": {
      "text/plain": [
       "array([99, 99, 99, 99, 99, 99,  6,  7,  8,  9, 10])"
      ]
     },
     "metadata": {},
     "execution_count": 65
    }
   ],
   "source": [
    "# Changing the content of the sliced array will result in changing\n",
    "# the elements of the original array to in the position we just sliced from\n",
    "\n",
    "sliced_of_arr[:] = 99\n",
    "\n",
    "arr"
   ]
  },
  {
   "cell_type": "code",
   "execution_count": 67,
   "metadata": {},
   "outputs": [],
   "source": [
    "# If we want a copy, use `.copy()`\n",
    "\n",
    "arr_copy = arr.copy()"
   ]
  },
  {
   "cell_type": "code",
   "execution_count": 73,
   "metadata": {},
   "outputs": [
    {
     "output_type": "stream",
     "name": "stdout",
     "text": [
      "[20 99 99 99 99 99  6  7  8  9 10] [99 99 99 99 99 99  6  7  8  9 10]\n"
     ]
    }
   ],
   "source": [
    "arr_copy[0] = 20\n",
    "print(arr_copy, arr)\n"
   ]
  },
  {
   "cell_type": "code",
   "execution_count": 86,
   "metadata": {},
   "outputs": [
    {
     "output_type": "execute_result",
     "data": {
      "text/plain": [
       "array([[ 0.,  1.,  2.,  3.,  4.],\n",
       "       [ 5.,  6.,  7.,  8.,  9.],\n",
       "       [10., 11., 12., 13., 14.],\n",
       "       [15., 16., 17., 18., 19.],\n",
       "       [20., 21., 22., 23., 24.]])"
      ]
     },
     "metadata": {},
     "execution_count": 86
    }
   ],
   "source": [
    "# With 2d arrays you can index via double square bracket or just single square brakcet with a comma\n",
    "\n",
    "arr2d = np.linspace(0, 24, 25)\n",
    "arr2d = arr2d.reshape(5, 5)\n",
    "\n",
    "arr2d"
   ]
  },
  {
   "cell_type": "code",
   "execution_count": 88,
   "metadata": {},
   "outputs": [
    {
     "output_type": "execute_result",
     "data": {
      "text/plain": [
       "True"
      ]
     },
     "metadata": {},
     "execution_count": 88
    }
   ],
   "source": [
    "arr2d[1, 2] == arr2d[1][2]"
   ]
  },
  {
   "cell_type": "code",
   "execution_count": 89,
   "metadata": {},
   "outputs": [
    {
     "output_type": "execute_result",
     "data": {
      "text/plain": [
       "array([[1., 2., 3., 4.],\n",
       "       [6., 7., 8., 9.]])"
      ]
     },
     "metadata": {},
     "execution_count": 89
    }
   ],
   "source": [
    "arr2d[:2, 1:]"
   ]
  },
  {
   "source": [
    "## Conditional Selections"
   ],
   "cell_type": "markdown",
   "metadata": {}
  },
  {
   "cell_type": "code",
   "execution_count": 91,
   "metadata": {},
   "outputs": [
    {
     "output_type": "execute_result",
     "data": {
      "text/plain": [
       "array([ 1,  2,  3,  4,  5,  6,  7,  8,  9, 10])"
      ]
     },
     "metadata": {},
     "execution_count": 91
    }
   ],
   "source": [
    "arr = np.arange(1, 11)\n",
    "arr"
   ]
  },
  {
   "cell_type": "code",
   "execution_count": 95,
   "metadata": {},
   "outputs": [
    {
     "output_type": "execute_result",
     "data": {
      "text/plain": [
       "array([ 6,  7,  8,  9, 10])"
      ]
     },
     "metadata": {},
     "execution_count": 95
    }
   ],
   "source": [
    "arr[arr > 5]"
   ]
  },
  {
   "cell_type": "code",
   "execution_count": 97,
   "metadata": {},
   "outputs": [
    {
     "output_type": "execute_result",
     "data": {
      "text/plain": [
       "array([1, 2])"
      ]
     },
     "metadata": {},
     "execution_count": 97
    }
   ],
   "source": [
    "arr[arr < 3]"
   ]
  },
  {
   "cell_type": "code",
   "execution_count": 102,
   "metadata": {},
   "outputs": [
    {
     "output_type": "execute_result",
     "data": {
      "text/plain": [
       "array([ 0,  1,  2,  3,  4,  5,  6,  7,  8,  9, 10, 11, 12, 13, 14, 15, 16,\n",
       "       17, 18, 19, 20, 21, 22, 23, 24, 25, 26, 27, 28, 29])"
      ]
     },
     "metadata": {},
     "execution_count": 102
    }
   ],
   "source": [
    "# Doing conditional indexing will return a one-d array\n",
    "\n",
    "arr_2d = np.arange(50).reshape(5, 10)\n",
    "arr_2d[arr_2d < 30]"
   ]
  },
  {
   "source": [
    "## Numpy Operations\n",
    "\n",
    "- Array with Array\n",
    "- Array with Scalars\n",
    "- Universal Array Functions\n",
    "\n",
    "You can check all of numpy's universal functions [here](https://numpy.org/doc/stable/reference/ufuncs.html)"
   ],
   "cell_type": "markdown",
   "metadata": {}
  },
  {
   "cell_type": "code",
   "execution_count": 107,
   "metadata": {},
   "outputs": [
    {
     "output_type": "execute_result",
     "data": {
      "text/plain": [
       "array([ 0,  1,  2,  3,  4,  5,  6,  7,  8,  9, 10])"
      ]
     },
     "metadata": {},
     "execution_count": 107
    }
   ],
   "source": [
    "arr = np.arange(0, 11)\n",
    "arr"
   ]
  },
  {
   "cell_type": "code",
   "execution_count": 104,
   "metadata": {},
   "outputs": [
    {
     "output_type": "execute_result",
     "data": {
      "text/plain": [
       "array([ 0,  2,  4,  6,  8, 10, 12, 14, 16, 18, 20])"
      ]
     },
     "metadata": {},
     "execution_count": 104
    }
   ],
   "source": [
    "arr + arr"
   ]
  },
  {
   "cell_type": "code",
   "execution_count": 105,
   "metadata": {},
   "outputs": [
    {
     "output_type": "execute_result",
     "data": {
      "text/plain": [
       "array([0, 0, 0, 0, 0, 0, 0, 0, 0, 0, 0])"
      ]
     },
     "metadata": {},
     "execution_count": 105
    }
   ],
   "source": [
    "arr - arr"
   ]
  },
  {
   "cell_type": "code",
   "execution_count": 106,
   "metadata": {},
   "outputs": [
    {
     "output_type": "execute_result",
     "data": {
      "text/plain": [
       "array([ 2,  3,  4,  5,  6,  7,  8,  9, 10, 11, 12])"
      ]
     },
     "metadata": {},
     "execution_count": 106
    }
   ],
   "source": [
    "arr + 2"
   ]
  },
  {
   "cell_type": "code",
   "execution_count": 108,
   "metadata": {},
   "outputs": [
    {
     "output_type": "execute_result",
     "data": {
      "text/plain": [
       "array([-100,  -99,  -98,  -97,  -96,  -95,  -94,  -93,  -92,  -91,  -90])"
      ]
     },
     "metadata": {},
     "execution_count": 108
    }
   ],
   "source": [
    "arr - 100"
   ]
  },
  {
   "cell_type": "code",
   "execution_count": 109,
   "metadata": {},
   "outputs": [
    {
     "output_type": "stream",
     "name": "stderr",
     "text": [
      "<ipython-input-109-7f952cd3e0ce>:1: RuntimeWarning: invalid value encountered in true_divide\n  arr / arr\n"
     ]
    },
    {
     "output_type": "execute_result",
     "data": {
      "text/plain": [
       "array([nan,  1.,  1.,  1.,  1.,  1.,  1.,  1.,  1.,  1.,  1.])"
      ]
     },
     "metadata": {},
     "execution_count": 109
    }
   ],
   "source": [
    "arr / arr"
   ]
  },
  {
   "cell_type": "code",
   "execution_count": 112,
   "metadata": {},
   "outputs": [
    {
     "output_type": "stream",
     "name": "stderr",
     "text": [
      "<ipython-input-112-8c4712fdf566>:1: RuntimeWarning: invalid value encountered in true_divide\n  n = (arr / arr)[0]\n"
     ]
    },
    {
     "output_type": "execute_result",
     "data": {
      "text/plain": [
       "numpy.float64"
      ]
     },
     "metadata": {},
     "execution_count": 112
    }
   ],
   "source": [
    "n = (arr / arr)[0]\n",
    "type(n)"
   ]
  },
  {
   "cell_type": "code",
   "execution_count": 113,
   "metadata": {},
   "outputs": [
    {
     "output_type": "stream",
     "name": "stderr",
     "text": [
      "<ipython-input-113-e66ae8057bc3>:1: RuntimeWarning: divide by zero encountered in true_divide\n  1 / arr\n"
     ]
    },
    {
     "output_type": "execute_result",
     "data": {
      "text/plain": [
       "array([       inf, 1.        , 0.5       , 0.33333333, 0.25      ,\n",
       "       0.2       , 0.16666667, 0.14285714, 0.125     , 0.11111111,\n",
       "       0.1       ])"
      ]
     },
     "metadata": {},
     "execution_count": 113
    }
   ],
   "source": [
    "1 / arr"
   ]
  },
  {
   "cell_type": "code",
   "execution_count": 114,
   "metadata": {},
   "outputs": [
    {
     "output_type": "execute_result",
     "data": {
      "text/plain": [
       "inf"
      ]
     },
     "metadata": {},
     "execution_count": 114
    }
   ],
   "source": [
    "np.inf"
   ]
  },
  {
   "cell_type": "code",
   "execution_count": 116,
   "metadata": {},
   "outputs": [
    {
     "output_type": "execute_result",
     "data": {
      "text/plain": [
       "array([0.        , 1.        , 1.41421356, 1.73205081, 2.        ,\n",
       "       2.23606798, 2.44948974, 2.64575131, 2.82842712, 3.        ,\n",
       "       3.16227766])"
      ]
     },
     "metadata": {},
     "execution_count": 116
    }
   ],
   "source": [
    "# Square Root\n",
    "\n",
    "np.sqrt(arr)"
   ]
  },
  {
   "cell_type": "code",
   "execution_count": 118,
   "metadata": {},
   "outputs": [
    {
     "output_type": "execute_result",
     "data": {
      "text/plain": [
       "array([1.00000000e+00, 2.71828183e+00, 7.38905610e+00, 2.00855369e+01,\n",
       "       5.45981500e+01, 1.48413159e+02, 4.03428793e+02, 1.09663316e+03,\n",
       "       2.98095799e+03, 8.10308393e+03, 2.20264658e+04])"
      ]
     },
     "metadata": {},
     "execution_count": 118
    }
   ],
   "source": [
    "# exponential\n",
    "\n",
    "np.exp(arr)"
   ]
  },
  {
   "cell_type": "code",
   "execution_count": 119,
   "metadata": {},
   "outputs": [
    {
     "output_type": "execute_result",
     "data": {
      "text/plain": [
       "array([ 0.        ,  0.84147098,  0.90929743,  0.14112001, -0.7568025 ,\n",
       "       -0.95892427, -0.2794155 ,  0.6569866 ,  0.98935825,  0.41211849,\n",
       "       -0.54402111])"
      ]
     },
     "metadata": {},
     "execution_count": 119
    }
   ],
   "source": [
    "np.sin(arr)"
   ]
  },
  {
   "cell_type": "code",
   "execution_count": 120,
   "metadata": {},
   "outputs": [
    {
     "output_type": "stream",
     "name": "stderr",
     "text": [
      "<ipython-input-120-a67b4ae04e95>:1: RuntimeWarning: divide by zero encountered in log\n  np.log(arr)\n"
     ]
    },
    {
     "output_type": "execute_result",
     "data": {
      "text/plain": [
       "array([      -inf, 0.        , 0.69314718, 1.09861229, 1.38629436,\n",
       "       1.60943791, 1.79175947, 1.94591015, 2.07944154, 2.19722458,\n",
       "       2.30258509])"
      ]
     },
     "metadata": {},
     "execution_count": 120
    }
   ],
   "source": [
    "np.log(arr)"
   ]
  },
  {
   "cell_type": "code",
   "execution_count": 122,
   "metadata": {},
   "outputs": [
    {
     "output_type": "execute_result",
     "data": {
      "text/plain": [
       "1.0"
      ]
     },
     "metadata": {},
     "execution_count": 122
    }
   ],
   "source": [
    "np.sin(np.pi/2)"
   ]
  },
  {
   "cell_type": "code",
   "execution_count": null,
   "metadata": {},
   "outputs": [],
   "source": []
  }
 ]
}